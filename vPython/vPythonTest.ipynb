{
 "cells": [
  {
   "cell_type": "code",
   "execution_count": null,
   "id": "2426e2d6-5439-4ef6-8937-60b20ca8222d",
   "metadata": {},
   "outputs": [],
   "source": []
  },
  {
   "cell_type": "markdown",
   "id": "d7b9c820-2e9b-456d-87ca-39630b493758",
   "metadata": {},
   "source": [
    "### VPython Install\n",
    "\n",
    "[VPython Install](https://vpython.org/presentation2018/install.html)\n",
    "\n",
    "We recommend installing the Anaconda Python distribution with Python version 3.5.3 or later.\n",
    "The 3D animations use WebGL in a browser, which is not supported by Internet Explorer.\n",
    "All current browsers do support WebGL. See webglreport.com to check this.\n",
    "\n",
    "The vpython module (\"VPython 7\") is available using\n",
    "     \"conda install -c vpython vpython\" or \"pip install vpython\". \n",
    "     \n",
    "#### Using the vpython module in a Jupyter notebook or Jupyter lab (Python 3.5.3 or greater)\n",
    "\n",
    "If you use Jupyter lab, after installing VPython you need to install Node.js (https://nodejs.org/en/download/) and then execute this:\n",
    "\n",
    "    jupyter labextension install vpython\n",
    "\n",
    "   pip install jupyterlab-vpython (if using JupyterLab version 3.0 or greater)\n",
    "\n",
    "There are two ways to start a Jupyter notebook or lab. In a terminal, execute \"jupyter notebook\" or \"jupyter lab\". Or (depending on what operating system you're using), doubleclick the icon \"Jupyter Notebook\" or \"JupyterLab\" that is shown as one of the Anaconda-related tools.\n",
    "\n",
    "If you have a recent release of the Mac operating system, to start the Jupyter notebook you may need to execute this:\n",
    "    jupyter notebook --browser=Chrome\n",
    "\n",
    "This short program will display a white box on a black background:\n",
    "    from vpython import *\n",
    "    box()\n",
    "\n",
    "Either with or without a Jupyter notebook or lab, \"from vpython import *\" also imports all math functions, clock(), random(), and arange(). This simplifies moving programs between GlowScript VPython and VPython 7.\n",
    "\n",
    "Click in the first cell (containing the vpython import statement), then click the run icon, the one that is a rightward-facing triangle touching a vertical line. Currently, to re-run a VPython program you need to click the circular arrow icon to \"restart the kernel\" and then click the red-highlighted button, then click in the first cell, then click the run icon. Some users find it convenient to include in the first cell just these statements:\n",
    "\n",
    "    from vpython import*\n",
    "    scene = canvas()\n",
    "\n",
    "Then put the rest of the program in later cells. The result is that the 3D display will be shown just under the first cell instead of at the end of the last cell. It also ensures that the vpython module has been fully initialized before continuing. Moreover, you can re-run the program more easily.\n",
    "\n"
   ]
  },
  {
   "cell_type": "code",
   "execution_count": null,
   "id": "aa0e6e19-ddd0-447d-8583-019538dc0da4",
   "metadata": {},
   "outputs": [],
   "source": []
  },
  {
   "cell_type": "code",
   "execution_count": null,
   "id": "bdaeec9b-6e59-426c-bd7a-68e28e0930f4",
   "metadata": {},
   "outputs": [],
   "source": []
  }
 ],
 "metadata": {
  "kernelspec": {
   "display_name": "Python 3 (ipykernel)",
   "language": "python",
   "name": "python3"
  },
  "language_info": {
   "codemirror_mode": {
    "name": "ipython",
    "version": 3
   },
   "file_extension": ".py",
   "mimetype": "text/x-python",
   "name": "python",
   "nbconvert_exporter": "python",
   "pygments_lexer": "ipython3",
   "version": "3.8.11"
  }
 },
 "nbformat": 4,
 "nbformat_minor": 5
}
