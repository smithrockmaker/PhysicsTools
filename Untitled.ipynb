{
 "cells": [
  {
   "cell_type": "markdown",
   "id": "c2ce1e6a",
   "metadata": {},
   "source": [
    "## Biopython\n",
    "\n",
    "The impetus for this notebook is a conversation with Matt Higgins about reading .ab1 DNA sequence files. The tool he has been using ([FinchTV](https://digitalworldbiology.com/FinchTV) is being deprecated and the question is whether there are Jupyterlab/python tools that might be a suitable alternative. [Biopython](https://biopython.org/wiki/ABI_traces) claims it can do this. I have a couple of .ab1 data files in the data folder to test this on."
   ]
  },
  {
   "cell_type": "code",
   "execution_count": null,
   "id": "2958a195",
   "metadata": {},
   "outputs": [],
   "source": []
  },
  {
   "cell_type": "code",
   "execution_count": null,
   "id": "67260399",
   "metadata": {},
   "outputs": [],
   "source": []
  },
  {
   "cell_type": "code",
   "execution_count": null,
   "id": "2205b459",
   "metadata": {},
   "outputs": [],
   "source": []
  }
 ],
 "metadata": {
  "kernelspec": {
   "display_name": "Python 3",
   "language": "python",
   "name": "python3"
  },
  "language_info": {
   "codemirror_mode": {
    "name": "ipython",
    "version": 3
   },
   "file_extension": ".py",
   "mimetype": "text/x-python",
   "name": "python",
   "nbconvert_exporter": "python",
   "pygments_lexer": "ipython3",
   "version": "3.8.10"
  }
 },
 "nbformat": 4,
 "nbformat_minor": 5
}
