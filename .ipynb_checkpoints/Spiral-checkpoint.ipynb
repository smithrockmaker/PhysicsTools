{
 "cells": [
  {
   "cell_type": "markdown",
   "metadata": {},
   "source": [
    "### Golden Mean Spiral Design Tool:\n",
    "\n",
    "A request has been made in my house for a planting bed in the form of a spiral (golden mean or fibonacci depending on who you ask). If you trust [this description](https://www.calculushowto.com/golden-spiral/) the spiral is most easily expressed in polar form. Better yet the [wiki page for the Golden Spiral](https://en.wikipedia.org/wiki/Golden_spiral) is nicely articulated.\n",
    "\n",
    "$$ r = a\\phi^{\\frac{2\\theta}{\\pi}} = \\alpha e^{b\\theta}$$\n"
   ]
  },
  {
   "cell_type": "code",
   "execution_count": 27,
   "metadata": {},
   "outputs": [],
   "source": [
    "import numpy as np\n",
    "import matplotlib as mplot\n",
    "import matplotlib.pyplot as plt"
   ]
  },
  {
   "cell_type": "markdown",
   "metadata": {},
   "source": [
    "### Parameters:\n",
    "\n",
    "$\\alpha$ is the initial radius of the spiral at $\\theta = 0$. b is the growth factor and drives the rate of growth of the spiral (as you would suspect)."
   ]
  },
  {
   "cell_type": "code",
   "execution_count": 68,
   "metadata": {},
   "outputs": [],
   "source": [
    "# define parameters:\n",
    "alpha = 2.0 # arbitrary units from cm to inches\n",
    "growthFactor = 0.145  # not sure what a big or small growth factor is.\n",
    "\n",
    "# offsets to position spiral where desired\n",
    "rotateOffset = 2.4  # rotate spiral by this many radians (CCW)\n",
    "xOffset = 3.3\n",
    "yOffset = -11.0\n",
    "\n",
    "# generate r values for spiral\n",
    "maxAngle = 12 # in radians\n",
    "numpoints = 100\n",
    "spiralAngle = np.linspace(0.,maxAngle,numpoints)\n",
    "\n",
    "spiralRadius = alpha*np.exp(growthFactor*spiralAngle)\n",
    "\n",
    "# create a model height list that matches the model time\n",
    "spiralx = np.full_like(spiralAngle,0)\n",
    "spiraly = np.full_like(spiralAngle,0)\n",
    "\n",
    "# calculate points along spiral\n",
    "spiralx = spiralRadius*np.cos(spiralAngle + rotateOffset) + xOffset\n",
    "spiraly = spiralRadius*np.sin(spiralAngle + rotateOffset) + yOffset\n",
    "\n",
    "\n",
    "# print(\"testing the output of the loop;\", modelheight)"
   ]
  },
  {
   "cell_type": "markdown",
   "metadata": {},
   "source": [
    "### Plotting the Spiral:\n",
    "\n",
    "Because I want to graft this spiral onto a physical setting"
   ]
  },
  {
   "cell_type": "code",
   "execution_count": 72,
   "metadata": {},
   "outputs": [
    {
     "data": {
      "image/png": "[encoded data removed]",
      "text/plain": [
       "<Figure size 720x648 with 1 Axes>"
      ]
     },
     "metadata": {
      "needs_background": "light"
     },
     "output_type": "display_data"
    }
   ],
   "source": [
    "fig1, ax1 = plt.subplots()\n",
    "ax1.scatter(spiralx, spiraly,\n",
    "            marker = 'x', color = 'green',\n",
    "            label = \"points\")\n",
    "\n",
    "# guidelines for construction: Set manually once spiral is defined\n",
    "xGuideMin = -3.\n",
    "xGuideMax = 14.\n",
    "yGuideMin = -21.\n",
    "yGuideMax = 1.\n",
    "\n",
    "# locate guidelines\n",
    "ax1.vlines(12.2, yGuideMin, yGuideMax,\n",
    "         color = 'magenta', linestyle = '-',\n",
    "         linewidth = 2., label = \"right\")\n",
    "ax1.vlines(2.0, yGuideMin, yGuideMax,\n",
    "         color = 'magenta', linestyle = '-',\n",
    "         linewidth = 2., label = \"center\")\n",
    "ax1.vlines(-2.3, yGuideMin, yGuideMax,\n",
    "         color = 'magenta', linestyle = '-',\n",
    "         linewidth = 2., label = \"left\")\n",
    "ax1.vlines(7.0, yGuideMin, yGuideMax,\n",
    "         color = 'magenta', linestyle = '-',\n",
    "         linewidth = 2., label = \"interior\")\n",
    "ax1.vlines(1.0, yGuideMin, yGuideMax,\n",
    "         color = 'magenta', linestyle = '-',\n",
    "         linewidth = 2., label = \"interior\")\n",
    "\n",
    "ax1.hlines(0., xGuideMin, xGuideMax,\n",
    "         color = 'blue', linestyle = '-',\n",
    "         linewidth = 2., label = \"top\")\n",
    "ax1.hlines(-18.1, xGuideMin, xGuideMax,\n",
    "         color = 'blue', linestyle = '-',\n",
    "         linewidth = 2., label = \"bottom\")\n",
    "ax1.hlines(-9.6, xGuideMin, xGuideMax,\n",
    "         color = 'blue', linestyle = '-',\n",
    "         linewidth = 2., label = \"center\")\n",
    "ax1.hlines(-6.5, xGuideMin, xGuideMax,\n",
    "         color = 'blue', linestyle = '-',\n",
    "         linewidth = 2., label = \"interior\")\n",
    "ax1.hlines(-13.9, xGuideMin, xGuideMax,\n",
    "         color = 'blue', linestyle = '-',\n",
    "         linewidth = 2., label = \"interior\")\n",
    "\n",
    "\n",
    "# a more explicit way to set labels\n",
    "plt.xlabel('x', fontsize = 10)\n",
    "plt.ylabel('y', fontsize = 10)\n",
    "plt.title('Golden Mean Spiral', fontsize = 20)\n",
    "\n",
    "\n",
    "fig1.set_size_inches(10, 9)\n",
    "ax1.grid()\n",
    "\n",
    "ax1.axis('equal')\n",
    "plt.legend(loc= 2)\n",
    "plt.show()"
   ]
  },
  {
   "cell_type": "code",
   "execution_count": null,
   "metadata": {},
   "outputs": [],
   "source": []
  },
  {
   "cell_type": "code",
   "execution_count": null,
   "metadata": {},
   "outputs": [],
   "source": []
  }
 ],
 "metadata": {
  "kernelspec": {
   "display_name": "Python 3",
   "language": "python",
   "name": "python3"
  },
  "language_info": {
   "codemirror_mode": {
    "name": "ipython",
    "version": 3
   },
   "file_extension": ".py",
   "mimetype": "text/x-python",
   "name": "python",
   "nbconvert_exporter": "python",
   "pygments_lexer": "ipython3",
   "version": "3.8.10"
  }
 },
 "nbformat": 4,
 "nbformat_minor": 4
}
