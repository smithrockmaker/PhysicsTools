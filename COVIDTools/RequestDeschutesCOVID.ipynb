{
 "cells": [
  {
   "cell_type": "markdown",
   "id": "e26f19fa",
   "metadata": {},
   "source": [
    "### Using the Request Library to Import a .csv Data File\n",
    "\n",
    "When I wrote a basic .csv data file tool for looking at the most recent data I realized it would be nice to embed code that reads the most recent COVID data from the NY Times github and saves it for use by the COVID notebook. \n",
    "\n",
    "**Requests** is clearly the tool that is used by most  but in my usual bumbling way my incomplete understanding of the structure of python led to some confusions. I finally found an [example to poach](https://medium.com/towards-entrepreneurship/importing-a-csv-file-from-github-in-a-jupyter-notebook-e2c28e7e74a5) which was helpful in getting me on the right track (thanks to the Medium community).\n",
    "\n",
    "```io``` is a tool for [parsing I/O streams](https://docs.python.org/3/library/io.html) which is what the requests library generates via the .get call. \n",
    "\n",
    "Once the I/O stream is converted to a string file then it is read in the normal way with pandas to create the data frame.\n",
    "\n",
    "[Documentation for the requests library](https://2.python-requests.org/en/master/api/#requests)\n"
   ]
  },
  {
   "cell_type": "code",
   "execution_count": 1,
   "id": "157a8dc8",
   "metadata": {},
   "outputs": [],
   "source": [
    "import pandas as pd\n",
    "import requests\n",
    "import io"
   ]
  },
  {
   "cell_type": "markdown",
   "id": "e1dc5331",
   "metadata": {},
   "source": [
    "### Bruce Learning:\n",
    "\n",
    "```requests``` is a library of tools for communicating with stuff out there on the web. Images, files, etc etc. ```request.get()``` is apparently the most typical use as well as the one I am using here. The object that is returned by the '.get' is a Response object which has the following characteristics. "
   ]
  },
  {
   "cell_type": "code",
   "execution_count": 2,
   "id": "d2d8163b",
   "metadata": {},
   "outputs": [
    {
     "data": {
      "text/plain": [
       "['__attrs__',\n",
       " '__bool__',\n",
       " '__class__',\n",
       " '__delattr__',\n",
       " '__dict__',\n",
       " '__dir__',\n",
       " '__doc__',\n",
       " '__enter__',\n",
       " '__eq__',\n",
       " '__exit__',\n",
       " '__format__',\n",
       " '__ge__',\n",
       " '__getattribute__',\n",
       " '__getstate__',\n",
       " '__gt__',\n",
       " '__hash__',\n",
       " '__init__',\n",
       " '__init_subclass__',\n",
       " '__iter__',\n",
       " '__le__',\n",
       " '__lt__',\n",
       " '__module__',\n",
       " '__ne__',\n",
       " '__new__',\n",
       " '__nonzero__',\n",
       " '__reduce__',\n",
       " '__reduce_ex__',\n",
       " '__repr__',\n",
       " '__setattr__',\n",
       " '__setstate__',\n",
       " '__sizeof__',\n",
       " '__str__',\n",
       " '__subclasshook__',\n",
       " '__weakref__',\n",
       " 'apparent_encoding',\n",
       " 'close',\n",
       " 'content',\n",
       " 'is_permanent_redirect',\n",
       " 'is_redirect',\n",
       " 'iter_content',\n",
       " 'iter_lines',\n",
       " 'json',\n",
       " 'links',\n",
       " 'next',\n",
       " 'ok',\n",
       " 'raise_for_status',\n",
       " 'text']"
      ]
     },
     "execution_count": 2,
     "metadata": {},
     "output_type": "execute_result"
    }
   ],
   "source": [
    "dir(requests.Response)"
   ]
  },
  {
   "cell_type": "code",
   "execution_count": 3,
   "id": "56604479",
   "metadata": {},
   "outputs": [],
   "source": [
    "# Downloading the csv file from the github. This url needs to be for the raw file\n",
    "# not the link to the github page hosting the file\n",
    "\n",
    "url = \"https://github.com/nytimes/covid-19-data/blob/master/us-counties-recent.csv?raw=true\" # Make sure the url is the raw version of the file on GitHub\n",
    "# The or\n",
    "#download = requests.get(url).content\n",
    "rObject = requests.get(url)\n",
    "\n",
    "downloadContent = rObject.content\n",
    "# This gives me a way to visualise the text string which is delivered with\n",
    "# the requests.get() call. A continuous stream of characters with embedded\n",
    "# \\n (newline).\n",
    "# downloadContent"
   ]
  },
  {
   "cell_type": "markdown",
   "id": "6618d6b3",
   "metadata": {},
   "source": [
    "### Exploring the Attributes:\n",
    "\n",
    "This was helpful in that the apparent encoding of the text stream is 'utf-8'. Explains why the decode type is 'utf-8'."
   ]
  },
  {
   "cell_type": "code",
   "execution_count": 4,
   "id": "30683b34",
   "metadata": {},
   "outputs": [
    {
     "data": {
      "text/plain": [
       "True"
      ]
     },
     "execution_count": 4,
     "metadata": {},
     "output_type": "execute_result"
    }
   ],
   "source": [
    "# rObject.apparent_encoding\n",
    "rObject.ok"
   ]
  },
  {
   "cell_type": "markdown",
   "id": "85e08a73",
   "metadata": {},
   "source": [
    "### Decoding the request content:\n",
    "\n",
    "```download.decode()```: decode is a python string attribute (the content stream from the 'get' is a string) that decodes an encoded string. The apparent_encoding is an attribute of the Response object and was 'utf-8' for this content. Would be good to explore this encoding attribute more later."
   ]
  },
  {
   "cell_type": "code",
   "execution_count": 5,
   "id": "274db4d9",
   "metadata": {},
   "outputs": [],
   "source": [
    "decodedContent = downloadContent.decode('utf-8')\n",
    "# decodedContent"
   ]
  },
  {
   "cell_type": "code",
   "execution_count": 6,
   "id": "0aab89fa",
   "metadata": {},
   "outputs": [
    {
     "name": "stdout",
     "output_type": "stream",
     "text": [
      "             date     county   state     fips  cases  deaths\n",
      "2235   2021-04-06  Deschutes  Oregon  41017.0   6504    71.0\n",
      "5484   2021-04-07  Deschutes  Oregon  41017.0   6535    72.0\n",
      "8733   2021-04-08  Deschutes  Oregon  41017.0   6581    72.0\n",
      "11981  2021-04-09  Deschutes  Oregon  41017.0   6633    72.0\n",
      "15229  2021-04-10  Deschutes  Oregon  41017.0   6706    72.0\n"
     ]
    }
   ],
   "source": [
    "# Reading the downloaded content and turning it into a pandas dataframe\n",
    "\n",
    "dataFrame = pd.read_csv(io.StringIO(decodedContent))\n",
    "\n",
    "# Filter for Deschutes County\n",
    "dataDeschutes = dataFrame.loc[(dataFrame['county'] == 'Deschutes')]\n",
    "\n",
    "# Printing out the first 5 rows of the data set\n",
    "# just to see what I have.\n",
    "print (dataDeschutes.head())"
   ]
  },
  {
   "cell_type": "markdown",
   "id": "f4585982",
   "metadata": {},
   "source": [
    "### Write the Data Frame to a .csv File:\n",
    "\n",
    "This works well. ```index=False``` strips the line numbers off the data frame before writing it. This is a good plan. \n",
    "\n",
    "The .to_csv overwrites the existing file if it already exists. Handy though scary.  Useful in this context where I want to update the COVID data for my analysis each time I run it."
   ]
  },
  {
   "cell_type": "code",
   "execution_count": 7,
   "id": "4734c84b",
   "metadata": {},
   "outputs": [],
   "source": [
    "dataDeschutes.to_csv('data/dataDeschutes.csv', sep='\\t', index=False)"
   ]
  },
  {
   "cell_type": "code",
   "execution_count": 8,
   "id": "923a6518",
   "metadata": {},
   "outputs": [
    {
     "name": "stdout",
     "output_type": "stream",
     "text": [
      "         date     county   state     fips  cases  deaths\n",
      "0  2021-04-06  Deschutes  Oregon  41017.0   6504    71.0\n",
      "1  2021-04-07  Deschutes  Oregon  41017.0   6535    72.0\n",
      "2  2021-04-08  Deschutes  Oregon  41017.0   6581    72.0\n",
      "3  2021-04-09  Deschutes  Oregon  41017.0   6633    72.0\n",
      "4  2021-04-10  Deschutes  Oregon  41017.0   6706    72.0\n"
     ]
    }
   ],
   "source": [
    "readData = pd.read_csv('data/dataDeschutes.csv', sep='\\t')\n",
    "print(readData.head())"
   ]
  },
  {
   "cell_type": "code",
   "execution_count": null,
   "id": "b745b070",
   "metadata": {},
   "outputs": [],
   "source": []
  }
 ],
 "metadata": {
  "kernelspec": {
   "display_name": "Python 3",
   "language": "python",
   "name": "python3"
  },
  "language_info": {
   "codemirror_mode": {
    "name": "ipython",
    "version": 3
   },
   "file_extension": ".py",
   "mimetype": "text/x-python",
   "name": "python",
   "nbconvert_exporter": "python",
   "pygments_lexer": "ipython3",
   "version": "3.8.5"
  }
 },
 "nbformat": 4,
 "nbformat_minor": 5
}
