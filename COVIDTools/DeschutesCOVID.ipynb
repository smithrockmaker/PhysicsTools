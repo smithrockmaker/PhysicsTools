{
 "cells": [
  {
   "cell_type": "markdown",
   "metadata": {},
   "source": [
    "\n",
    "## COVID Data: An Example of .csv Data\n",
    "### PH 212 COCC\n",
    "#### Bruce Emerson 5/4/21\n",
    "\n",
    "As an illustration of the utility of accessing .csv data files this notebook explores the COVID data set maintained by the NY Times on it's github. The particular data I decided to work with is the county by county data from across the country for the most recent 30 days. This is a remarkably small file (a few MB) which tempts me to down load the full pandemic data set but I am resisting for now.\n",
    "\n",
    "[NY Times data github](https://github.com/nytimes/covid-19-data/blob/master/us-counties-recent.csv). \n",
    "\n",
    "In this same directory is a RequestDeschutesCOVID.ipynb notebook. This notebook reads the 30 day county by county data from the github above, filters the data for Deschutes County "
   ]
  },
  {
   "cell_type": "markdown",
   "metadata": {},
   "source": [
    "### Dependencies\n",
    "\n",
    "The new dependency here is the [Pandas](https://pandas.pydata.org/) library which was developed to support data science applications in python. It is classically imported with the alias pd. It is installed as part of your Anaconda package. When you update Anaconda you can also update Pandas."
   ]
  },
  {
   "cell_type": "code",
   "execution_count": 2,
   "metadata": {},
   "outputs": [],
   "source": [
    "import numpy as np\n",
    "import pandas as pd\n",
    "import matplotlib as mplot\n",
    "import matplotlib.pyplot as plt\n",
    "from numpy.polynomial import polynomial as ply\n",
    "import requests"
   ]
  },
  {
   "cell_type": "markdown",
   "metadata": {},
   "source": [
    "### Read csv from Pandas\n",
    "\n",
    "As we get deeper into python we will need to begin to develop a richer understanding of how python works. We can do this incrementally so don't panic. In Pandas there are a variety of [data structures](https://pandas.pydata.org/docs/user_guide/dsintro.html#dataframe) which are described in the pandas documentation. There is clearly a lot to learn be we will focus on [data frames](https://pandas.pydata.org/docs/user_guide/dsintro.html#dataframe) which are a data structure that matches our normal understanding of a two dimensional data set."
   ]
  },
  {
   "cell_type": "code",
   "execution_count": 7,
   "metadata": {},
   "outputs": [
    {
     "name": "stdout",
     "output_type": "stream",
     "text": [
      "          date     county   state     fips  cases  deaths\n",
      "0   2021-04-06  Deschutes  Oregon  41017.0   6504    71.0\n",
      "1   2021-04-07  Deschutes  Oregon  41017.0   6535    72.0\n",
      "2   2021-04-08  Deschutes  Oregon  41017.0   6581    72.0\n",
      "3   2021-04-09  Deschutes  Oregon  41017.0   6633    72.0\n",
      "4   2021-04-10  Deschutes  Oregon  41017.0   6706    72.0\n",
      "5   2021-04-11  Deschutes  Oregon  41017.0   6741    72.0\n",
      "6   2021-04-12  Deschutes  Oregon  41017.0   6759    72.0\n",
      "7   2021-04-13  Deschutes  Oregon  41017.0   6793    72.0\n",
      "8   2021-04-14  Deschutes  Oregon  41017.0   6877    72.0\n",
      "9   2021-04-15  Deschutes  Oregon  41017.0   6929    72.0\n",
      "10  2021-04-16  Deschutes  Oregon  41017.0   6987    72.0\n",
      "11  2021-04-17  Deschutes  Oregon  41017.0   7082    72.0\n",
      "12  2021-04-18  Deschutes  Oregon  41017.0   7129    72.0\n",
      "13  2021-04-19  Deschutes  Oregon  41017.0   7172    72.0\n",
      "14  2021-04-20  Deschutes  Oregon  41017.0   7214    72.0\n",
      "15  2021-04-21  Deschutes  Oregon  41017.0   7312    72.0\n",
      "16  2021-04-22  Deschutes  Oregon  41017.0   7368    72.0\n",
      "17  2021-04-23  Deschutes  Oregon  41017.0   7472    73.0\n",
      "18  2021-04-24  Deschutes  Oregon  41017.0   7551    73.0\n",
      "19  2021-04-25  Deschutes  Oregon  41017.0   7635    73.0\n",
      "20  2021-04-26  Deschutes  Oregon  41017.0   7676    73.0\n",
      "21  2021-04-27  Deschutes  Oregon  41017.0   7756    73.0\n",
      "22  2021-04-28  Deschutes  Oregon  41017.0   7822    73.0\n",
      "23  2021-04-29  Deschutes  Oregon  41017.0   7949    73.0\n",
      "24  2021-04-30  Deschutes  Oregon  41017.0   8029    73.0\n",
      "25  2021-05-01  Deschutes  Oregon  41017.0   8116    73.0\n",
      "26  2021-05-02  Deschutes  Oregon  41017.0   8182    73.0\n",
      "27  2021-05-03  Deschutes  Oregon  41017.0   8231    73.0\n",
      "28  2021-05-04  Deschutes  Oregon  41017.0   8288    73.0\n",
      "29  2021-05-05  Deschutes  Oregon  41017.0   8370    73.0\n"
     ]
    }
   ],
   "source": [
    "dataDeschutes = pd.read_csv(\"data/dataDeschutes.csv\", sep='\\t')\n",
    "print(dataDeschutes)"
   ]
  },
  {
   "cell_type": "markdown",
   "metadata": {},
   "source": [
    "### Rotation of Dates:\n",
    "\n",
    "After some exploration I wondered if I could fix the messy date plotting that you see in the second plot below. I eventually found that I can rotate the plot labels on any axis which alllows the date, which is a long object, to be plotted vertically without overlapping with the adjacent labels. Cool!"
   ]
  },
  {
   "cell_type": "code",
   "execution_count": 11,
   "metadata": {},
   "outputs": [
    {
     "data": {
      "image/png": "[encoded data removed]",
      "text/plain": [
       "<Figure size 720x648 with 1 Axes>"
      ]
     },
     "metadata": {
      "needs_background": "light"
     },
     "output_type": "display_data"
    }
   ],
   "source": [
    "# dates rotated -- NICE\n",
    "# code cell that creates the plot\n",
    "dateRaw = dataDeschutes['date']\n",
    "dataCases = dataDeschutes['cases']\n",
    "fig1, ax1 = plt.subplots()\n",
    "ax1.scatter(dateRaw, dataCases)\n",
    "\n",
    "# a more explicit way to set labels\n",
    "plt.xlabel('Date', fontsize = 10)\n",
    "plt.ylabel('Cases', fontsize = 10)\n",
    "plt.title('Cummulative COVID Deschutes County', fontsize = 20)\n",
    "\n",
    "# rotate the x tick labels so dates are readable\n",
    "plt.xticks(rotation = '90')\n",
    "\n",
    "# size the figure\n",
    "fig1.set_size_inches(10, 9)\n",
    "ax1.grid()\n",
    "\n",
    "#fig.savefig(\"myplot.png\")\n",
    "plt.show()"
   ]
  },
  {
   "cell_type": "markdown",
   "metadata": {},
   "source": [
    "### Finding Daily Cases:\n",
    "\n",
    "The data set contains the cummulative case data. Epidemiologists have been focusing on the daily case numbers. The daily case number is the difference between each data point and the previous data point. This is a very common feature of data that folks are interested in and not surprisingly pandas and the pandas dataframe have a tool for that. This is another 'attribute' of the data frame called [pandas.DataFrame.diff](https://pandas.pydata.org/pandas-docs/stable/reference/api/pandas.DataFrame.diff.html). It can do a variety of calculations but the default is to take the difference between successive data points.\n",
    "\n",
    "I can also add this data to the data frame by defining a new column\n",
    "\n",
    "Pandas is complaining about something I'm doing but I haven't figured it out yet. It still works but pandas is unhappy and I'll need to sort that out eventually."
   ]
  },
  {
   "cell_type": "code",
   "execution_count": 13,
   "metadata": {},
   "outputs": [],
   "source": [
    "dailyCases = dataDeschutes['cases'].diff()\n",
    "day3Cases = dataDeschutes['cases'].diff(periods=3)\n",
    "# dailyCases"
   ]
  },
  {
   "cell_type": "markdown",
   "metadata": {},
   "source": [
    "### Future Work for Bruce:\n",
    "\n",
    "When I try to put this daily data back in the data frame I get an error so I'm going to sidestep this for now and put it on my work list. I'm stepping on something about how the data frame wants me to work with the data."
   ]
  },
  {
   "cell_type": "code",
   "execution_count": 38,
   "metadata": {},
   "outputs": [],
   "source": [
    "#dataDeschutes['test'] = dailyCases\n",
    "#dataDeschutes"
   ]
  },
  {
   "cell_type": "markdown",
   "metadata": {},
   "source": [
    "### Oregon Case Criteria\n",
    "\n",
    "Since we are currently wrestling with higher risk in Deschutes County I wondered if I could verify the state data that places Deschutes county in the high risk category. The [criteria that Oregon uses are listed on this webpage](https://coronavirus.oregon.gov/Pages/living-with-covid-19.aspx). As a county with a population of more than 30,000 (population of Deschutes county is pegged at 198,000 for 2019 - call it 200,000 for 2020) the case rate criteria is based on case rate per 100,000 over 14 days. It is not entirely clear what the 'over 14 days' which is partly what I'm curious about.\n",
    "\n",
    "https://coronavirus.oregon.gov/Pages/living-with-covid-19.aspx\n",
    "\n",
    "### What We Can Learn:\n",
    "\n",
    "The rate/100,000 averaged over 3 days has stayed below 50 for all of April according to this data. That would appear to put us in a moderate risk category. On the other hand the state has placed us in the extreme risk category according to the website linked above. How can this be? The value in looking at the actual data is that it makes us think! It is likely that what the criteria means is that the **TOTAL CASES/100,000 over 14 days** is what is being assessed. \n",
    "\n",
    "Let's imagine that is what is being measured. Stated another way 200 cases/100,000 over 14 days is and 14.28 cases/100,000 each day for 14 days. Reframing the state criteria this way allows us to put reference lines on the graph. Here are the locations of the dividing lines between the criteria IF that is what is meant:\n",
    "\n",
    "1. 50 cases/100,000 => 3.57 cases/100,000/day\n",
    "1. 100 cases/100,000 => 7.14 cases/100,000/day\n",
    "1. 200 cases/100,000 => 14.28 cases/100,000/day"
   ]
  },
  {
   "cell_type": "code",
   "execution_count": 16,
   "metadata": {},
   "outputs": [
    {
     "data": {
      "text/plain": [
       "2.0"
      ]
     },
     "execution_count": 16,
     "metadata": {},
     "output_type": "execute_result"
    }
   ],
   "source": [
    "peopleDeschutes = 200000.0\n",
    "rateDivider = peopleDeschutes/100000.0\n",
    "rateDivider"
   ]
  },
  {
   "cell_type": "code",
   "execution_count": 19,
   "metadata": {},
   "outputs": [
    {
     "data": {
      "image/png": "[encoded data removed]",
      "text/plain": [
       "<Figure size 720x648 with 1 Axes>"
      ]
     },
     "metadata": {
      "needs_background": "light"
     },
     "output_type": "display_data"
    }
   ],
   "source": [
    "# 3 day rolling rate \n",
    "# code cell that creates the plot\n",
    "# divide by 3 to get rolling average\n",
    "# divide by rateDivider to get rate/100,000 population\n",
    "rate3Day = day3Cases/(3*rateDivider)\n",
    "fig2, ax2 = plt.subplots()\n",
    "ax2.scatter(dateRaw, rate3Day)\n",
    "\n",
    "# Oregon daily average thresholds based on 14 day cummulative cases\n",
    "rateLow = 3.57\n",
    "rateModerate = 7.14\n",
    "rateHigh = 14.28\n",
    "\n",
    "# a more explicit way to set labels\n",
    "plt.xlabel('Date', fontsize = 10)\n",
    "plt.ylabel('Cases', fontsize = 10)\n",
    "plt.title('3 Day Average COVID Deschutes County', fontsize = 20)\n",
    "\n",
    "# Boundaries between different risk levels\n",
    "ax2.hlines(rateLow, 0, 30,\n",
    "         color = 'green', linestyle = '-',\n",
    "         linewidth = 2., label = \"low risk\")\n",
    "ax2.hlines(rateModerate, 0, 30,\n",
    "         color = 'yellow', linestyle = '-',\n",
    "         linewidth = 2., label = \"moderate risk\")\n",
    "ax2.hlines(rateHigh, 0, 30,\n",
    "         color = 'red', linestyle = '-',\n",
    "         linewidth = 2., label = \"high risk\")\n",
    "\n",
    "# a more explicit way to set labels\n",
    "plt.xlabel('Date', fontsize = 10)\n",
    "plt.ylabel('Cases', fontsize = 10)\n",
    "plt.title('Average Rate/100,000 COVID Deschutes County', fontsize = 20)\n",
    "# rotate the x tick labels so dates are readable\n",
    "plt.xticks(rotation = '90')\n",
    "\n",
    "# size the figure\n",
    "fig2.set_size_inches(10, 9)\n",
    "ax2.grid()\n",
    "\n",
    "#fig.savefig(\"myplot.png\")\n",
    "plt.show()"
   ]
  },
  {
   "cell_type": "markdown",
   "metadata": {},
   "source": [
    "### Reflections:\n",
    "\n",
    "I gotta stop now but I feel like this is an example of an important learning experience with data and science. When you have the actual data you can dig into it to develop a greater understanding. I'm not sure that I have this figured out yet but I have much better questions to ask. Based on this analysis I am surprised that Deschutes County is stepping down from 'extreme risk' next week. The data on the Oregon website indicates we have 467 cases/100,000/14 days which is 33 cases/100,000/day and that matches the data above. Boom! \n",
    "\n",
    "Done for now. Happy exploring:)"
   ]
  },
  {
   "cell_type": "code",
   "execution_count": null,
   "metadata": {},
   "outputs": [],
   "source": []
  }
 ],
 "metadata": {
  "kernelspec": {
   "display_name": "Python 3",
   "language": "python",
   "name": "python3"
  },
  "language_info": {
   "codemirror_mode": {
    "name": "ipython",
    "version": 3
   },
   "file_extension": ".py",
   "mimetype": "text/x-python",
   "name": "python",
   "nbconvert_exporter": "python",
   "pygments_lexer": "ipython3",
   "version": "3.8.5"
  }
 },
 "nbformat": 4,
 "nbformat_minor": 4
}
