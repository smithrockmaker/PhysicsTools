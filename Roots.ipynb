{
 "cells": [
  {
   "cell_type": "markdown",
   "metadata": {},
   "source": [
    "### Roots Finder Using Numpy\n",
    "\n",
    "Just because I am always using my phone as a calculator and it doesn't do this:) I originally consider a direct quadratic solver from the ```math``` library and then realized is was useful to have a more general solver available. [This model](https://nkrvavica.github.io/post/on_computing_roots/) from a computational engineer in Croatia ([Nino Krvavica](https://nkrvavica.github.io/#about)) totally got me so that's what this is based on."
   ]
  },
  {
   "cell_type": "code",
   "execution_count": 1,
   "metadata": {},
   "outputs": [],
   "source": [
    "import numpy as np"
   ]
  },
  {
   "cell_type": "markdown",
   "metadata": {},
   "source": [
    "### numpy.roots\n",
    "\n",
    "Documentation for [numpy.roots](https://numpy.org/doc/stable/reference/generated/numpy.roots.html) suggests that it will report complex roots when they occur. Since speed is not my issue many of Nino's concerns are not mine. As long as I provide a coefficient vector numpt.roots will find all appropriate roots and return them. \n",
    "\n",
    "The coefficients are entered from highest order down to the constant!"
   ]
  },
  {
   "cell_type": "markdown",
   "metadata": {},
   "source": [
    "### Quadratic:"
   ]
  },
  {
   "cell_type": "code",
   "execution_count": 3,
   "metadata": {},
   "outputs": [
    {
     "name": "stdout",
     "output_type": "stream",
     "text": [
      "quadratic roots:  [-0.18409521  0.15209521]\n"
     ]
    }
   ],
   "source": [
    "coeffsQuad = [250.,8., -7. ]\n",
    "quadRoots = np.roots(coeffsQuad)\n",
    "print(\"quadratic roots: \",quadRoots)"
   ]
  },
  {
   "cell_type": "markdown",
   "metadata": {},
   "source": [
    "### Cubic:"
   ]
  },
  {
   "cell_type": "code",
   "execution_count": 6,
   "metadata": {},
   "outputs": [
    {
     "name": "stdout",
     "output_type": "stream",
     "text": [
      "quadratic roots:  [ 0.93463374+0.63084369j  0.93463374-0.63084369j -0.48151237+0.j        ]\n"
     ]
    }
   ],
   "source": [
    "coeffsCubic = [4.9, -6.8, 1.82, 3.]\n",
    "quadCubic = np.roots(coeffsCubic)\n",
    "print(\"quadratic roots: \",quadCubic)"
   ]
  },
  {
   "cell_type": "code",
   "execution_count": null,
   "metadata": {},
   "outputs": [],
   "source": []
  }
 ],
 "metadata": {
  "kernelspec": {
   "display_name": "Python 3",
   "language": "python",
   "name": "python3"
  },
  "language_info": {
   "codemirror_mode": {
    "name": "ipython",
    "version": 3
   },
   "file_extension": ".py",
   "mimetype": "text/x-python",
   "name": "python",
   "nbconvert_exporter": "python",
   "pygments_lexer": "ipython3",
   "version": "3.8.5"
  }
 },
 "nbformat": 4,
 "nbformat_minor": 4
}
